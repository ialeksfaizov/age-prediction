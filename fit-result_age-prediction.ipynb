{
 "cells": [
  {
   "cell_type": "markdown",
   "metadata": {},
   "source": [
    "```\n",
    "\n",
    "Train for 380 steps, validate for 95 steps\n",
    "Epoch 1/15\n",
    "380/380 - 112s - loss: 217.1784 - mae: 10.8676 - val_loss: 512.7093 - val_mae: 17.4220\n",
    "Epoch 2/15\n",
    "380/380 - 105s - loss: 110.6862 - mae: 7.9262 - val_loss: 111.7961 - val_mae: 8.0692\n",
    "Epoch 3/15\n",
    "380/380 - 105s - loss: 94.7076 - mae: 7.3508 - val_loss: 182.6926 - val_mae: 9.9616\n",
    "Epoch 4/15\n",
    "380/380 - 104s - loss: 79.9293 - mae: 6.7890 - val_loss: 90.3314 - val_mae: 7.3496\n",
    "Epoch 5/15\n",
    "380/380 - 104s - loss: 69.3020 - mae: 6.3407 - val_loss: 86.1858 - val_mae: 7.1169\n",
    "Epoch 6/15\n",
    "380/380 - 105s - loss: 63.2165 - mae: 6.0892 - val_loss: 84.6894 - val_mae: 7.1257\n",
    "Epoch 7/15\n",
    "380/380 - 105s - loss: 56.9483 - mae: 5.7641 - val_loss: 89.7739 - val_mae: 6.9274\n",
    "Epoch 8/15\n",
    "380/380 - 105s - loss: 51.1013 - mae: 5.4840 - val_loss: 72.7288 - val_mae: 6.4680\n",
    "Epoch 9/15\n",
    "380/380 - 105s - loss: 46.2995 - mae: 5.2294 - val_loss: 82.5849 - val_mae: 6.8025\n",
    "Epoch 10/15\n",
    "380/380 - 105s - loss: 42.2411 - mae: 5.0217 - val_loss: 95.4023 - val_mae: 6.9554\n",
    "Epoch 11/15\n",
    "380/380 - 105s - loss: 37.7661 - mae: 4.7267 - val_loss: 87.4251 - val_mae: 6.8088\n",
    "Epoch 12/15\n",
    "380/380 - 105s - loss: 36.9341 - mae: 4.6946 - val_loss: 94.0408 - val_mae: 7.1950\n",
    "Epoch 13/15\n",
    "380/380 - 105s - loss: 36.2386 - mae: 4.6116 - val_loss: 70.9260 - val_mae: 6.2916\n",
    "Epoch 14/15\n",
    "380/380 - 105s - loss: 32.8461 - mae: 4.4222 - val_loss: 73.0917 - val_mae: 6.4471\n",
    "Epoch 15/15\n",
    "380/380 - 104s - loss: 31.1996 - mae: 4.2598 - val_loss: 68.3400 - val_mae: 6.0535\n",
    "\n",
    "95/95 - 8s - loss: 68.3400 - mae: 6.0535\n",
    "Test MAE: 6.0535\n",
    "\n",
    "```"
   ]
  }
 ],
 "metadata": {
  "ExecuteTimeLog": [
   {
    "duration": 59812,
    "start_time": "2022-06-30T09:08:32.548Z"
   },
   {
    "duration": 4,
    "start_time": "2022-06-30T09:09:32.362Z"
   },
   {
    "duration": 47570,
    "start_time": "2022-06-30T09:09:38.546Z"
   },
   {
    "duration": 43,
    "start_time": "2022-06-30T09:10:26.118Z"
   },
   {
    "duration": 371,
    "start_time": "2022-06-30T09:10:26.162Z"
   },
   {
    "duration": 187,
    "start_time": "2022-06-30T09:10:26.535Z"
   },
   {
    "duration": 2747,
    "start_time": "2022-06-30T09:10:26.724Z"
   },
   {
    "duration": 27,
    "start_time": "2022-06-30T09:17:39.137Z"
   },
   {
    "duration": 47859,
    "start_time": "2022-06-30T09:18:19.437Z"
   },
   {
    "duration": 46563,
    "start_time": "2022-06-30T09:34:23.939Z"
   },
   {
    "duration": 2719,
    "start_time": "2022-06-30T09:39:03.555Z"
   },
   {
    "duration": 41278,
    "start_time": "2022-06-30T12:17:57.101Z"
   },
   {
    "duration": 2302,
    "start_time": "2022-06-30T12:18:38.380Z"
   },
   {
    "duration": 3384,
    "start_time": "2022-07-01T07:53:34.584Z"
   },
   {
    "duration": 230502,
    "start_time": "2022-07-01T07:53:37.970Z"
   },
   {
    "duration": 4,
    "start_time": "2022-07-01T07:57:28.474Z"
   },
   {
    "duration": 25,
    "start_time": "2022-07-01T07:57:28.480Z"
   },
   {
    "duration": 31,
    "start_time": "2022-07-01T07:57:28.507Z"
   },
   {
    "duration": 312,
    "start_time": "2022-07-01T07:57:28.540Z"
   },
   {
    "duration": 172,
    "start_time": "2022-07-01T07:57:28.854Z"
   },
   {
    "duration": 93012,
    "start_time": "2022-07-01T07:57:29.029Z"
   },
   {
    "duration": 2629,
    "start_time": "2022-07-01T07:59:02.043Z"
   },
   {
    "duration": 61,
    "start_time": "2022-07-01T08:34:33.628Z"
   },
   {
    "duration": 7,
    "start_time": "2022-07-01T08:34:55.496Z"
   },
   {
    "duration": 7585,
    "start_time": "2022-07-01T08:35:10.436Z"
   },
   {
    "duration": 122684,
    "start_time": "2022-07-01T08:35:18.023Z"
   },
   {
    "duration": 4,
    "start_time": "2022-07-01T08:37:20.708Z"
   },
   {
    "duration": 132,
    "start_time": "2022-07-01T08:37:20.714Z"
   },
   {
    "duration": 30,
    "start_time": "2022-07-01T08:37:20.848Z"
   },
   {
    "duration": 582,
    "start_time": "2022-07-01T08:37:20.880Z"
   },
   {
    "duration": 325,
    "start_time": "2022-07-01T08:37:31.039Z"
   },
   {
    "duration": 309,
    "start_time": "2022-07-01T08:37:58.480Z"
   },
   {
    "duration": 318,
    "start_time": "2022-07-01T08:38:08.797Z"
   },
   {
    "duration": 274,
    "start_time": "2022-07-01T08:38:18.645Z"
   },
   {
    "duration": 391,
    "start_time": "2022-07-01T08:38:24.574Z"
   },
   {
    "duration": 266,
    "start_time": "2022-07-01T08:38:30.836Z"
   },
   {
    "duration": 294,
    "start_time": "2022-07-01T08:38:36.238Z"
   },
   {
    "duration": 309,
    "start_time": "2022-07-01T08:40:28.366Z"
   },
   {
    "duration": 478,
    "start_time": "2022-07-01T08:43:44.631Z"
   },
   {
    "duration": 494,
    "start_time": "2022-07-01T08:43:53.774Z"
   },
   {
    "duration": 274,
    "start_time": "2022-07-01T08:44:20.168Z"
   },
   {
    "duration": 264,
    "start_time": "2022-07-01T08:44:34.674Z"
   },
   {
    "duration": 139,
    "start_time": "2022-07-01T08:45:02.128Z"
   },
   {
    "duration": 181,
    "start_time": "2022-07-01T08:45:10.243Z"
   },
   {
    "duration": 172,
    "start_time": "2022-07-01T08:45:15.547Z"
   },
   {
    "duration": 323,
    "start_time": "2022-07-01T08:45:52.733Z"
   },
   {
    "duration": 124,
    "start_time": "2022-07-01T08:46:00.248Z"
   },
   {
    "duration": 122,
    "start_time": "2022-07-01T08:46:08.287Z"
   },
   {
    "duration": 164,
    "start_time": "2022-07-01T08:46:15.588Z"
   },
   {
    "duration": 164,
    "start_time": "2022-07-01T08:46:42.306Z"
   },
   {
    "duration": 17,
    "start_time": "2022-07-01T08:47:12.786Z"
   },
   {
    "duration": 227,
    "start_time": "2022-07-01T08:47:18.789Z"
   },
   {
    "duration": 88435,
    "start_time": "2022-07-01T08:47:20.658Z"
   },
   {
    "duration": 4562,
    "start_time": "2022-07-01T08:48:49.096Z"
   },
   {
    "duration": 363,
    "start_time": "2022-07-01T08:48:53.897Z"
   },
   {
    "duration": 172,
    "start_time": "2022-07-01T08:48:54.262Z"
   },
   {
    "duration": 4,
    "start_time": "2022-07-01T08:49:39.433Z"
   },
   {
    "duration": 13,
    "start_time": "2022-07-01T08:49:52.766Z"
   },
   {
    "duration": 4298,
    "start_time": "2022-07-01T08:50:27.953Z"
   },
   {
    "duration": 3906,
    "start_time": "2022-07-01T08:50:46.390Z"
   },
   {
    "duration": 4022,
    "start_time": "2022-07-01T08:50:58.878Z"
   },
   {
    "duration": 4076,
    "start_time": "2022-07-01T08:54:48.008Z"
   },
   {
    "duration": 4248,
    "start_time": "2022-07-01T08:55:41.799Z"
   },
   {
    "duration": 85562,
    "start_time": "2022-07-01T08:57:37.503Z"
   },
   {
    "duration": 2749,
    "start_time": "2022-07-01T09:00:06.981Z"
   },
   {
    "duration": 2361,
    "start_time": "2022-07-01T09:29:25.749Z"
   },
   {
    "duration": 4498,
    "start_time": "2022-07-01T09:31:16.375Z"
   },
   {
    "duration": 25,
    "start_time": "2022-07-01T09:33:28.889Z"
   },
   {
    "duration": 91,
    "start_time": "2022-07-01T09:33:50.255Z"
   },
   {
    "duration": 22,
    "start_time": "2022-07-01T09:50:06.395Z"
   },
   {
    "duration": 2632,
    "start_time": "2022-07-01T09:50:21.258Z"
   },
   {
    "duration": 28,
    "start_time": "2022-07-01T09:50:25.610Z"
   },
   {
    "duration": 22,
    "start_time": "2022-07-01T09:51:42.986Z"
   },
   {
    "duration": 21,
    "start_time": "2022-07-01T09:52:38.220Z"
   },
   {
    "duration": 15,
    "start_time": "2022-07-01T09:52:51.781Z"
   },
   {
    "duration": 24,
    "start_time": "2022-07-01T09:52:56.874Z"
   },
   {
    "duration": 16,
    "start_time": "2022-07-01T09:53:03.445Z"
   },
   {
    "duration": 17,
    "start_time": "2022-07-01T09:53:11.583Z"
   },
   {
    "duration": 17,
    "start_time": "2022-07-01T09:54:45.383Z"
   },
   {
    "duration": 66,
    "start_time": "2022-07-01T09:56:42.105Z"
   },
   {
    "duration": 50,
    "start_time": "2022-07-01T09:56:48.087Z"
   },
   {
    "duration": 60,
    "start_time": "2022-07-01T09:56:50.825Z"
   },
   {
    "duration": 84,
    "start_time": "2022-07-01T09:57:12.511Z"
   },
   {
    "duration": 13,
    "start_time": "2022-07-01T09:57:39.247Z"
   },
   {
    "duration": 14,
    "start_time": "2022-07-01T09:57:42.589Z"
   },
   {
    "duration": 64,
    "start_time": "2022-07-01T09:58:00.443Z"
   },
   {
    "duration": 50,
    "start_time": "2022-07-01T09:58:03.721Z"
   },
   {
    "duration": 108,
    "start_time": "2022-07-01T09:58:15.596Z"
   },
   {
    "duration": 396,
    "start_time": "2022-07-01T09:58:16.893Z"
   },
   {
    "duration": 1922,
    "start_time": "2022-07-01T10:55:40.943Z"
   },
   {
    "duration": 5,
    "start_time": "2022-07-01T10:55:42.867Z"
   },
   {
    "duration": 8,
    "start_time": "2022-07-01T10:55:42.874Z"
   },
   {
    "duration": 44,
    "start_time": "2022-07-01T10:55:42.883Z"
   },
   {
    "duration": 33,
    "start_time": "2022-07-01T10:55:42.931Z"
   },
   {
    "duration": 358,
    "start_time": "2022-07-01T10:55:43.855Z"
   },
   {
    "duration": 180,
    "start_time": "2022-07-01T10:55:44.214Z"
   },
   {
    "duration": 223,
    "start_time": "2022-07-01T10:55:44.914Z"
   },
   {
    "duration": 2064,
    "start_time": "2022-07-01T10:55:46.852Z"
   },
   {
    "duration": 3,
    "start_time": "2022-07-01T10:55:48.919Z"
   },
   {
    "duration": 65,
    "start_time": "2022-07-01T10:55:48.923Z"
   },
   {
    "duration": 72,
    "start_time": "2022-07-01T10:55:49.070Z"
   },
   {
    "duration": 379,
    "start_time": "2022-07-01T10:55:49.273Z"
   },
   {
    "duration": 167,
    "start_time": "2022-07-01T10:55:49.819Z"
   },
   {
    "duration": 86942,
    "start_time": "2022-07-01T10:55:50.003Z"
   },
   {
    "duration": 2521,
    "start_time": "2022-07-01T10:57:16.946Z"
   },
   {
    "duration": 594,
    "start_time": "2022-07-01T10:57:29.117Z"
   },
   {
    "duration": 12,
    "start_time": "2022-07-01T10:57:37.710Z"
   },
   {
    "duration": 4,
    "start_time": "2022-07-01T10:57:52.458Z"
   },
   {
    "duration": 517,
    "start_time": "2022-07-01T10:57:55.652Z"
   },
   {
    "duration": 11,
    "start_time": "2022-07-01T10:57:58.317Z"
   },
   {
    "duration": 19,
    "start_time": "2022-07-01T10:59:44.498Z"
   },
   {
    "duration": 12,
    "start_time": "2022-07-01T11:00:01.826Z"
   },
   {
    "duration": 14,
    "start_time": "2022-07-01T11:00:03.708Z"
   },
   {
    "duration": 3278,
    "start_time": "2022-07-01T11:00:12.592Z"
   },
   {
    "duration": 25,
    "start_time": "2022-07-01T11:00:17.419Z"
   },
   {
    "duration": 8680,
    "start_time": "2022-07-01T11:00:58.917Z"
   },
   {
    "duration": 1001,
    "start_time": "2022-07-01T11:01:07.600Z"
   },
   {
    "duration": 31532,
    "start_time": "2022-07-01T11:01:51.092Z"
   },
   {
    "duration": 809,
    "start_time": "2022-07-01T11:02:27.692Z"
   },
   {
    "duration": 3,
    "start_time": "2022-07-01T11:03:12.879Z"
   },
   {
    "duration": 975,
    "start_time": "2022-07-01T11:10:11.702Z"
   },
   {
    "duration": 82,
    "start_time": "2022-07-01T11:11:47.954Z"
   },
   {
    "duration": 87,
    "start_time": "2022-07-01T11:11:55.407Z"
   },
   {
    "duration": 20,
    "start_time": "2022-07-01T11:12:53.978Z"
   },
   {
    "duration": 20,
    "start_time": "2022-07-01T11:12:59.753Z"
   },
   {
    "duration": 2,
    "start_time": "2022-07-01T11:13:22.691Z"
   },
   {
    "duration": 494,
    "start_time": "2022-07-01T11:13:24.194Z"
   },
   {
    "duration": 22,
    "start_time": "2022-07-01T11:13:24.756Z"
   },
   {
    "duration": 24,
    "start_time": "2022-07-01T11:13:37.681Z"
   },
   {
    "duration": 17,
    "start_time": "2022-07-01T11:14:01.398Z"
   },
   {
    "duration": 16,
    "start_time": "2022-07-01T11:14:39.697Z"
   },
   {
    "duration": 13,
    "start_time": "2022-07-01T11:14:52.383Z"
   },
   {
    "duration": 15,
    "start_time": "2022-07-01T11:18:52.643Z"
   },
   {
    "duration": 69,
    "start_time": "2022-07-01T11:19:11.118Z"
   },
   {
    "duration": 34,
    "start_time": "2022-07-01T11:19:24.913Z"
   },
   {
    "duration": 52,
    "start_time": "2022-07-01T11:21:45.625Z"
   },
   {
    "duration": 72,
    "start_time": "2022-07-01T11:21:50.628Z"
   },
   {
    "duration": 4,
    "start_time": "2022-07-01T11:23:48.154Z"
   },
   {
    "duration": 15045,
    "start_time": "2022-07-01T11:23:50.776Z"
   },
   {
    "duration": 8059,
    "start_time": "2022-07-01T11:24:12.215Z"
   },
   {
    "duration": 36270,
    "start_time": "2022-07-01T11:25:58.083Z"
   },
   {
    "duration": 755,
    "start_time": "2022-07-01T11:26:43.382Z"
   },
   {
    "duration": 2910,
    "start_time": "2022-07-01T11:26:52.787Z"
   },
   {
    "duration": 2574,
    "start_time": "2022-07-01T11:28:07.022Z"
   },
   {
    "duration": 2607,
    "start_time": "2022-07-01T11:28:40.552Z"
   },
   {
    "duration": 76,
    "start_time": "2022-07-01T11:30:55.233Z"
   },
   {
    "duration": 83,
    "start_time": "2022-07-01T11:31:04.339Z"
   },
   {
    "duration": 69,
    "start_time": "2022-07-01T11:31:26.983Z"
   },
   {
    "duration": 95,
    "start_time": "2022-07-01T11:31:46.561Z"
   },
   {
    "duration": 83,
    "start_time": "2022-07-01T11:32:19.537Z"
   },
   {
    "duration": 80,
    "start_time": "2022-07-01T11:32:41.561Z"
   },
   {
    "duration": 37341,
    "start_time": "2022-07-01T11:32:59.348Z"
   },
   {
    "duration": 276876,
    "start_time": "2022-07-01T11:33:38.726Z"
   },
   {
    "duration": 21,
    "start_time": "2022-07-01T11:38:17.627Z"
   },
   {
    "duration": 9,
    "start_time": "2022-07-01T11:38:28.954Z"
   },
   {
    "duration": 184309,
    "start_time": "2022-07-01T11:38:29.484Z"
   },
   {
    "duration": 622,
    "start_time": "2022-07-01T11:42:25.540Z"
   },
   {
    "duration": 505,
    "start_time": "2022-07-01T11:42:37.551Z"
   },
   {
    "duration": 35,
    "start_time": "2022-07-01T11:42:47.795Z"
   },
   {
    "duration": 33,
    "start_time": "2022-07-01T11:44:02.636Z"
   },
   {
    "duration": 5,
    "start_time": "2022-07-01T11:45:51.156Z"
   },
   {
    "duration": 3,
    "start_time": "2022-07-01T11:45:53.703Z"
   },
   {
    "duration": 14,
    "start_time": "2022-07-01T11:46:01.249Z"
   },
   {
    "duration": 15,
    "start_time": "2022-07-01T11:46:06.681Z"
   },
   {
    "duration": 15,
    "start_time": "2022-07-01T11:46:16.399Z"
   },
   {
    "duration": 23,
    "start_time": "2022-07-01T11:46:47.027Z"
   },
   {
    "duration": 29,
    "start_time": "2022-07-01T11:46:54.388Z"
   },
   {
    "duration": 15,
    "start_time": "2022-07-01T11:47:09.098Z"
   },
   {
    "duration": 17,
    "start_time": "2022-07-01T11:47:16.253Z"
   },
   {
    "duration": 3,
    "start_time": "2022-07-01T11:49:38.711Z"
   },
   {
    "duration": 164,
    "start_time": "2022-07-01T11:49:51.164Z"
   },
   {
    "duration": 42,
    "start_time": "2022-07-01T11:51:01.159Z"
   },
   {
    "duration": 2140,
    "start_time": "2022-07-01T11:52:35.468Z"
   },
   {
    "duration": 9,
    "start_time": "2022-07-01T11:58:10.725Z"
   },
   {
    "duration": 104,
    "start_time": "2022-07-01T11:58:40.159Z"
   },
   {
    "duration": 4,
    "start_time": "2022-07-01T12:01:17.700Z"
   },
   {
    "duration": 97,
    "start_time": "2022-07-01T12:01:20.272Z"
   },
   {
    "duration": 30,
    "start_time": "2022-07-01T12:01:34.885Z"
   },
   {
    "duration": 14,
    "start_time": "2022-07-01T12:01:57.063Z"
   },
   {
    "duration": 29,
    "start_time": "2022-07-01T12:03:59.578Z"
   },
   {
    "duration": 54,
    "start_time": "2022-07-01T12:07:28.605Z"
   },
   {
    "duration": 37,
    "start_time": "2022-07-01T12:08:07.384Z"
   },
   {
    "duration": 6,
    "start_time": "2022-07-01T12:08:55.705Z"
   },
   {
    "duration": 4,
    "start_time": "2022-07-01T12:08:59.577Z"
   },
   {
    "duration": 511,
    "start_time": "2022-07-01T12:09:26.381Z"
   },
   {
    "duration": 4,
    "start_time": "2022-07-01T12:18:46.800Z"
   },
   {
    "duration": 458,
    "start_time": "2022-07-01T12:25:29.002Z"
   },
   {
    "duration": 30,
    "start_time": "2022-07-01T12:27:52.971Z"
   },
   {
    "duration": 4,
    "start_time": "2022-07-01T12:29:10.997Z"
   },
   {
    "duration": 4,
    "start_time": "2022-07-01T12:29:18.005Z"
   },
   {
    "duration": 14,
    "start_time": "2022-07-01T12:29:24.785Z"
   },
   {
    "duration": 15,
    "start_time": "2022-07-01T12:29:29.971Z"
   },
   {
    "duration": 15,
    "start_time": "2022-07-01T12:30:00.900Z"
   },
   {
    "duration": 15,
    "start_time": "2022-07-01T12:30:34.151Z"
   },
   {
    "duration": 4,
    "start_time": "2022-07-01T12:31:11.798Z"
   },
   {
    "duration": 13,
    "start_time": "2022-07-01T12:33:20.692Z"
   },
   {
    "duration": 15,
    "start_time": "2022-07-01T12:33:39.213Z"
   },
   {
    "duration": 4,
    "start_time": "2022-07-01T12:34:01.540Z"
   },
   {
    "duration": 24,
    "start_time": "2022-07-01T12:34:01.918Z"
   },
   {
    "duration": 3,
    "start_time": "2022-07-01T12:34:21.925Z"
   },
   {
    "duration": 16,
    "start_time": "2022-07-01T12:34:27.244Z"
   },
   {
    "duration": 25,
    "start_time": "2022-07-01T12:35:11.720Z"
   },
   {
    "duration": 17,
    "start_time": "2022-07-01T12:35:44.894Z"
   },
   {
    "duration": 4,
    "start_time": "2022-07-01T12:37:52.751Z"
   },
   {
    "duration": 3,
    "start_time": "2022-07-01T12:38:08.693Z"
   },
   {
    "duration": 851,
    "start_time": "2022-07-01T12:55:10.078Z"
   },
   {
    "duration": 71,
    "start_time": "2022-07-01T12:57:03.266Z"
   },
   {
    "duration": 30391,
    "start_time": "2022-07-01T12:57:26.921Z"
   },
   {
    "duration": 49171,
    "start_time": "2022-07-01T12:59:49.702Z"
   },
   {
    "duration": 13687,
    "start_time": "2022-07-01T13:00:41.970Z"
   },
   {
    "duration": 23,
    "start_time": "2022-07-01T13:01:25.011Z"
   },
   {
    "duration": 86947,
    "start_time": "2022-07-01T13:02:33.298Z"
   },
   {
    "duration": 4,
    "start_time": "2022-07-01T13:04:00.246Z"
   },
   {
    "duration": 19,
    "start_time": "2022-07-01T13:04:00.251Z"
   },
   {
    "duration": 2353,
    "start_time": "2022-07-01T13:04:00.272Z"
   },
   {
    "duration": 48,
    "start_time": "2022-07-01T13:06:47.451Z"
   },
   {
    "duration": 664,
    "start_time": "2022-07-01T13:07:04.893Z"
   },
   {
    "duration": 202,
    "start_time": "2022-07-01T13:07:21.245Z"
   },
   {
    "duration": 5,
    "start_time": "2022-07-01T13:10:11.552Z"
   },
   {
    "duration": 4,
    "start_time": "2022-07-01T13:10:29.011Z"
   },
   {
    "duration": 72,
    "start_time": "2022-07-01T13:10:57.690Z"
   },
   {
    "duration": 73,
    "start_time": "2022-07-01T13:11:29.487Z"
   },
   {
    "duration": 107,
    "start_time": "2022-07-01T13:14:14.169Z"
   },
   {
    "duration": 3,
    "start_time": "2022-07-01T13:14:27.767Z"
   },
   {
    "duration": 3,
    "start_time": "2022-07-01T13:15:00.878Z"
   },
   {
    "duration": 72,
    "start_time": "2022-07-01T13:15:02.250Z"
   },
   {
    "duration": 59,
    "start_time": "2022-07-01T13:15:33.792Z"
   },
   {
    "duration": 86,
    "start_time": "2022-07-01T13:16:18.836Z"
   },
   {
    "duration": 3,
    "start_time": "2022-07-01T13:17:26.451Z"
   },
   {
    "duration": 70,
    "start_time": "2022-07-01T13:17:27.131Z"
   },
   {
    "duration": 4,
    "start_time": "2022-07-01T13:17:46.642Z"
   },
   {
    "duration": 71,
    "start_time": "2022-07-01T13:17:47.692Z"
   },
   {
    "duration": 4,
    "start_time": "2022-07-01T13:18:04.334Z"
   },
   {
    "duration": 72,
    "start_time": "2022-07-01T13:18:04.811Z"
   },
   {
    "duration": 61,
    "start_time": "2022-07-01T13:18:06.099Z"
   },
   {
    "duration": 48,
    "start_time": "2022-07-01T13:18:06.815Z"
   },
   {
    "duration": 5,
    "start_time": "2022-07-01T13:29:35.755Z"
   },
   {
    "duration": 478,
    "start_time": "2022-07-01T13:35:49.947Z"
   },
   {
    "duration": 12,
    "start_time": "2022-07-01T13:36:35.199Z"
   },
   {
    "duration": 538,
    "start_time": "2022-07-01T13:37:03.306Z"
   },
   {
    "duration": 1706,
    "start_time": "2022-07-01T13:38:00.519Z"
   },
   {
    "duration": 1795,
    "start_time": "2022-07-01T13:38:26.020Z"
   },
   {
    "duration": 2112,
    "start_time": "2022-07-01T13:39:27.312Z"
   },
   {
    "duration": 1699,
    "start_time": "2022-07-01T13:39:36.359Z"
   },
   {
    "duration": 476,
    "start_time": "2022-07-01T13:40:43.410Z"
   },
   {
    "duration": 1664,
    "start_time": "2022-07-01T13:40:49.680Z"
   },
   {
    "duration": 1949,
    "start_time": "2022-07-01T13:40:55.226Z"
   },
   {
    "duration": 1122,
    "start_time": "2022-07-01T13:41:03.726Z"
   },
   {
    "duration": 946,
    "start_time": "2022-07-01T13:42:00.259Z"
   },
   {
    "duration": 2085,
    "start_time": "2022-07-01T13:42:06.295Z"
   },
   {
    "duration": 1792,
    "start_time": "2022-07-01T13:42:19.809Z"
   },
   {
    "duration": 1672,
    "start_time": "2022-07-01T13:43:09.364Z"
   },
   {
    "duration": 1804,
    "start_time": "2022-07-01T13:43:14.767Z"
   },
   {
    "duration": 2180,
    "start_time": "2022-07-01T13:43:19.183Z"
   },
   {
    "duration": 2193,
    "start_time": "2022-07-01T13:43:32.263Z"
   },
   {
    "duration": 2511,
    "start_time": "2022-07-01T13:44:07.403Z"
   },
   {
    "duration": 2098,
    "start_time": "2022-07-01T13:44:20.856Z"
   },
   {
    "duration": 2199,
    "start_time": "2022-07-01T13:44:52.808Z"
   },
   {
    "duration": 2014,
    "start_time": "2022-07-01T13:45:01.687Z"
   },
   {
    "duration": 873,
    "start_time": "2022-07-01T13:46:25.573Z"
   },
   {
    "duration": 1976,
    "start_time": "2022-07-01T13:46:30.256Z"
   },
   {
    "duration": 1950,
    "start_time": "2022-07-01T13:46:59.106Z"
   },
   {
    "duration": 529,
    "start_time": "2022-07-01T13:47:03.168Z"
   },
   {
    "duration": 5,
    "start_time": "2022-07-01T13:47:35.216Z"
   },
   {
    "duration": 562,
    "start_time": "2022-07-01T13:47:39.508Z"
   },
   {
    "duration": 546,
    "start_time": "2022-07-01T13:47:47.866Z"
   },
   {
    "duration": 2107,
    "start_time": "2022-07-01T13:47:56.060Z"
   },
   {
    "duration": 174,
    "start_time": "2022-07-01T13:53:11.330Z"
   },
   {
    "duration": 193,
    "start_time": "2022-07-01T13:53:24.941Z"
   },
   {
    "duration": 150,
    "start_time": "2022-07-01T13:53:35.514Z"
   },
   {
    "duration": 158,
    "start_time": "2022-07-01T13:53:39.547Z"
   },
   {
    "duration": 193,
    "start_time": "2022-07-01T13:53:43.072Z"
   },
   {
    "duration": 396,
    "start_time": "2022-07-01T13:55:20.047Z"
   },
   {
    "duration": 726,
    "start_time": "2022-07-01T13:55:22.767Z"
   },
   {
    "duration": 107,
    "start_time": "2022-07-01T13:55:36.680Z"
   },
   {
    "duration": 192,
    "start_time": "2022-07-01T13:55:45.570Z"
   },
   {
    "duration": 146,
    "start_time": "2022-07-01T13:55:50.019Z"
   },
   {
    "duration": 128,
    "start_time": "2022-07-01T13:55:59.871Z"
   },
   {
    "duration": 134,
    "start_time": "2022-07-01T13:56:11.679Z"
   },
   {
    "duration": 669,
    "start_time": "2022-07-01T14:00:12.330Z"
   },
   {
    "duration": 4,
    "start_time": "2022-07-01T14:06:58.818Z"
   },
   {
    "duration": 123,
    "start_time": "2022-07-01T14:07:47.555Z"
   },
   {
    "duration": 5,
    "start_time": "2022-07-01T14:08:33.645Z"
   },
   {
    "duration": 133,
    "start_time": "2022-07-01T14:08:40.090Z"
   },
   {
    "duration": 26,
    "start_time": "2022-07-01T14:08:40.866Z"
   },
   {
    "duration": 100,
    "start_time": "2022-07-01T14:08:41.322Z"
   },
   {
    "duration": 3382,
    "start_time": "2022-07-01T15:40:03.840Z"
   },
   {
    "duration": 56312,
    "start_time": "2022-07-01T15:40:12.743Z"
   },
   {
    "duration": 5,
    "start_time": "2022-07-01T15:41:09.057Z"
   },
   {
    "duration": 85,
    "start_time": "2022-07-01T15:41:23.117Z"
   },
   {
    "duration": 34,
    "start_time": "2022-07-01T15:41:26.359Z"
   },
   {
    "duration": 366,
    "start_time": "2022-07-01T15:41:34.206Z"
   },
   {
    "duration": 191,
    "start_time": "2022-07-01T15:41:34.574Z"
   },
   {
    "duration": 211,
    "start_time": "2022-07-01T15:41:37.185Z"
   },
   {
    "duration": 93,
    "start_time": "2022-07-01T15:41:38.422Z"
   },
   {
    "duration": 53,
    "start_time": "2022-07-01T15:41:39.043Z"
   },
   {
    "duration": 111,
    "start_time": "2022-07-01T15:41:39.549Z"
   },
   {
    "duration": 324,
    "start_time": "2022-07-01T15:48:51.573Z"
   },
   {
    "duration": 4,
    "start_time": "2022-07-01T15:49:12.316Z"
   },
   {
    "duration": 332,
    "start_time": "2022-07-01T15:49:12.988Z"
   },
   {
    "duration": 13,
    "start_time": "2022-07-01T15:49:24.163Z"
   },
   {
    "duration": 325,
    "start_time": "2022-07-01T15:50:14.369Z"
   },
   {
    "duration": 13,
    "start_time": "2022-07-01T15:50:14.774Z"
   },
   {
    "duration": 17,
    "start_time": "2022-07-01T15:51:34.423Z"
   },
   {
    "duration": 316,
    "start_time": "2022-07-01T15:53:31.789Z"
   },
   {
    "duration": 72,
    "start_time": "2022-07-01T15:55:37.486Z"
   },
   {
    "duration": 77,
    "start_time": "2022-07-01T15:57:11.091Z"
   },
   {
    "duration": 6336,
    "start_time": "2022-07-01T15:59:57.949Z"
   },
   {
    "duration": 7389,
    "start_time": "2022-07-01T16:00:28.373Z"
   },
   {
    "duration": 267702,
    "start_time": "2022-07-01T16:01:14.997Z"
   },
   {
    "duration": 21,
    "start_time": "2022-07-01T16:09:43.707Z"
   },
   {
    "duration": 63,
    "start_time": "2022-07-01T16:09:43.730Z"
   },
   {
    "duration": 2,
    "start_time": "2022-07-01T16:10:03.922Z"
   },
   {
    "duration": 3,
    "start_time": "2022-07-01T16:10:11.466Z"
   },
   {
    "duration": 10738,
    "start_time": "2022-07-01T16:13:25.962Z"
   },
   {
    "duration": 54639,
    "start_time": "2022-07-01T16:13:38.426Z"
   },
   {
    "duration": 53072,
    "start_time": "2022-07-01T16:15:21.237Z"
   },
   {
    "duration": 3,
    "start_time": "2022-07-01T16:20:55.721Z"
   },
   {
    "duration": 4,
    "start_time": "2022-07-01T16:21:25.342Z"
   },
   {
    "duration": 6,
    "start_time": "2022-07-01T16:21:31.719Z"
   },
   {
    "duration": 3,
    "start_time": "2022-07-01T16:21:37.575Z"
   },
   {
    "duration": 6,
    "start_time": "2022-07-01T16:21:38.513Z"
   },
   {
    "duration": 11,
    "start_time": "2022-07-01T16:21:43.742Z"
   },
   {
    "duration": 29285,
    "start_time": "2022-07-01T16:22:16.388Z"
   },
   {
    "duration": 66359,
    "start_time": "2022-07-01T16:22:46.839Z"
   },
   {
    "duration": 25,
    "start_time": "2022-07-01T16:49:18.680Z"
   },
   {
    "duration": 10,
    "start_time": "2022-07-01T16:50:06.625Z"
   },
   {
    "duration": 10,
    "start_time": "2022-07-01T16:50:16.346Z"
   },
   {
    "duration": 3,
    "start_time": "2022-07-01T16:50:23.207Z"
   },
   {
    "duration": 3,
    "start_time": "2022-07-01T16:50:26.284Z"
   },
   {
    "duration": 3,
    "start_time": "2022-07-01T16:50:35.700Z"
   },
   {
    "duration": 9,
    "start_time": "2022-07-01T16:50:36.314Z"
   },
   {
    "duration": 9,
    "start_time": "2022-07-01T16:50:36.929Z"
   },
   {
    "duration": 9,
    "start_time": "2022-07-01T16:50:39.134Z"
   },
   {
    "duration": 3,
    "start_time": "2022-07-01T16:50:39.699Z"
   },
   {
    "duration": 16,
    "start_time": "2022-07-01T16:50:55.258Z"
   },
   {
    "duration": 4,
    "start_time": "2022-07-01T16:50:59.036Z"
   },
   {
    "duration": 25,
    "start_time": "2022-07-01T16:51:44.002Z"
   },
   {
    "duration": 3,
    "start_time": "2022-07-01T16:51:52.776Z"
   },
   {
    "duration": 10,
    "start_time": "2022-07-01T16:51:52.782Z"
   },
   {
    "duration": 11,
    "start_time": "2022-07-01T16:51:52.931Z"
   },
   {
    "duration": 17,
    "start_time": "2022-07-01T16:51:53.846Z"
   },
   {
    "duration": 11,
    "start_time": "2022-07-01T16:52:18.817Z"
   },
   {
    "duration": 63586,
    "start_time": "2022-07-01T16:52:22.326Z"
   },
   {
    "duration": 3,
    "start_time": "2022-07-01T16:57:23.525Z"
   },
   {
    "duration": 9,
    "start_time": "2022-07-01T16:57:23.941Z"
   },
   {
    "duration": 13,
    "start_time": "2022-07-01T16:57:24.426Z"
   },
   {
    "duration": 11,
    "start_time": "2022-07-01T16:57:40.970Z"
   },
   {
    "duration": 10,
    "start_time": "2022-07-01T16:57:48.035Z"
   },
   {
    "duration": 9,
    "start_time": "2022-07-01T16:57:55.930Z"
   },
   {
    "duration": 9,
    "start_time": "2022-07-01T16:57:56.509Z"
   },
   {
    "duration": 12,
    "start_time": "2022-07-01T16:58:16.982Z"
   },
   {
    "duration": 11,
    "start_time": "2022-07-01T16:58:18.242Z"
   },
   {
    "duration": 4,
    "start_time": "2022-07-01T16:58:26.767Z"
   },
   {
    "duration": 8,
    "start_time": "2022-07-01T16:58:26.773Z"
   },
   {
    "duration": 12,
    "start_time": "2022-07-01T16:58:26.783Z"
   },
   {
    "duration": 13,
    "start_time": "2022-07-01T16:58:27.471Z"
   },
   {
    "duration": 11,
    "start_time": "2022-07-01T16:58:28.288Z"
   },
   {
    "duration": 8,
    "start_time": "2022-07-01T16:59:15.708Z"
   },
   {
    "duration": 4,
    "start_time": "2022-07-01T16:59:16.142Z"
   },
   {
    "duration": 3,
    "start_time": "2022-07-01T16:59:21.742Z"
   },
   {
    "duration": 6,
    "start_time": "2022-07-01T16:59:22.040Z"
   },
   {
    "duration": 10,
    "start_time": "2022-07-01T16:59:22.449Z"
   },
   {
    "duration": 9,
    "start_time": "2022-07-01T16:59:25.383Z"
   },
   {
    "duration": 4,
    "start_time": "2022-07-01T16:59:25.959Z"
   },
   {
    "duration": 4,
    "start_time": "2022-07-01T16:59:40.370Z"
   },
   {
    "duration": 6,
    "start_time": "2022-07-01T16:59:40.575Z"
   },
   {
    "duration": 15,
    "start_time": "2022-07-01T16:59:40.789Z"
   },
   {
    "duration": 14,
    "start_time": "2022-07-01T16:59:41.394Z"
   },
   {
    "duration": 23,
    "start_time": "2022-07-01T16:59:42.520Z"
   },
   {
    "duration": 64829,
    "start_time": "2022-07-01T16:59:46.343Z"
   },
   {
    "duration": 172,
    "start_time": "2022-07-01T17:02:52.778Z"
   },
   {
    "duration": 540,
    "start_time": "2022-07-01T17:04:23.874Z"
   },
   {
    "duration": 45798,
    "start_time": "2022-07-01T17:05:45.379Z"
   },
   {
    "duration": 49,
    "start_time": "2022-07-01T17:12:39.382Z"
   },
   {
    "duration": 29,
    "start_time": "2022-07-01T17:12:48.542Z"
   },
   {
    "duration": 24,
    "start_time": "2022-07-01T17:13:08.204Z"
   },
   {
    "duration": 5,
    "start_time": "2022-07-01T17:14:28.588Z"
   },
   {
    "duration": 25,
    "start_time": "2022-07-01T17:15:48.668Z"
   },
   {
    "duration": 46044,
    "start_time": "2022-07-01T17:17:22.782Z"
   },
   {
    "duration": 22,
    "start_time": "2022-07-01T17:18:15.344Z"
   },
   {
    "duration": 4,
    "start_time": "2022-07-01T17:18:22.679Z"
   },
   {
    "duration": 11,
    "start_time": "2022-07-01T17:18:23.982Z"
   },
   {
    "duration": 21,
    "start_time": "2022-07-01T17:18:43.502Z"
   },
   {
    "duration": 0,
    "start_time": "2022-07-01T17:18:43.524Z"
   },
   {
    "duration": 19,
    "start_time": "2022-07-01T17:18:52.936Z"
   },
   {
    "duration": 10,
    "start_time": "2022-07-01T17:18:58.209Z"
   },
   {
    "duration": 8,
    "start_time": "2022-07-01T17:18:59.131Z"
   },
   {
    "duration": 11,
    "start_time": "2022-07-01T17:19:13.399Z"
   },
   {
    "duration": 45975,
    "start_time": "2022-07-01T17:21:39.210Z"
   },
   {
    "duration": 5,
    "start_time": "2022-07-01T17:22:25.852Z"
   },
   {
    "duration": 13,
    "start_time": "2022-07-01T17:22:26.635Z"
   },
   {
    "duration": 45591,
    "start_time": "2022-07-01T17:22:38.359Z"
   },
   {
    "duration": 13,
    "start_time": "2022-07-01T17:23:23.952Z"
   },
   {
    "duration": 44725,
    "start_time": "2022-07-01T17:25:11.202Z"
   },
   {
    "duration": 47,
    "start_time": "2022-07-01T17:29:05.108Z"
   },
   {
    "duration": 49,
    "start_time": "2022-07-01T17:29:55.096Z"
   },
   {
    "duration": 5,
    "start_time": "2022-07-01T17:31:11.931Z"
   },
   {
    "duration": 12,
    "start_time": "2022-07-01T17:31:14.471Z"
   },
   {
    "duration": 8,
    "start_time": "2022-07-01T17:32:08.508Z"
   },
   {
    "duration": 36,
    "start_time": "2022-07-01T17:32:08.518Z"
   },
   {
    "duration": 4,
    "start_time": "2022-07-01T17:32:44.311Z"
   },
   {
    "duration": 10,
    "start_time": "2022-07-01T17:32:51.130Z"
   },
   {
    "duration": 169,
    "start_time": "2022-07-01T17:34:05.070Z"
   },
   {
    "duration": 13833,
    "start_time": "2022-07-01T17:34:28.528Z"
   },
   {
    "duration": 174,
    "start_time": "2022-07-01T17:37:43.116Z"
   },
   {
    "duration": 27,
    "start_time": "2022-07-01T17:40:46.912Z"
   },
   {
    "duration": 35,
    "start_time": "2022-07-01T17:41:18.270Z"
   },
   {
    "duration": 26,
    "start_time": "2022-07-01T17:47:02.702Z"
   },
   {
    "duration": 4,
    "start_time": "2022-07-01T17:48:44.176Z"
   },
   {
    "duration": 4,
    "start_time": "2022-07-01T17:48:47.515Z"
   },
   {
    "duration": 5,
    "start_time": "2022-07-01T17:49:04.446Z"
   },
   {
    "duration": 46045,
    "start_time": "2022-07-01T17:49:30.493Z"
   },
   {
    "duration": 47660,
    "start_time": "2022-07-01T17:50:39.783Z"
   },
   {
    "duration": 4,
    "start_time": "2022-07-01T17:54:10.800Z"
   },
   {
    "duration": 5,
    "start_time": "2022-07-01T17:54:17.796Z"
   },
   {
    "duration": 49769,
    "start_time": "2022-07-01T17:54:42.053Z"
   },
   {
    "duration": 16643,
    "start_time": "2022-07-01T17:56:13.502Z"
   },
   {
    "duration": 49429,
    "start_time": "2022-07-01T17:56:40.294Z"
   },
   {
    "duration": 5309,
    "start_time": "2022-07-01T17:57:56.644Z"
   },
   {
    "duration": 4093,
    "start_time": "2022-07-01T17:58:35.747Z"
   },
   {
    "duration": 3038,
    "start_time": "2022-07-01T17:58:55.398Z"
   },
   {
    "duration": 3340,
    "start_time": "2022-07-01T17:59:07.962Z"
   },
   {
    "duration": 7457,
    "start_time": "2022-07-01T17:59:35.739Z"
   },
   {
    "duration": 6787,
    "start_time": "2022-07-01T18:00:08.727Z"
   },
   {
    "duration": 120,
    "start_time": "2022-07-01T18:01:08.440Z"
   },
   {
    "duration": 106,
    "start_time": "2022-07-01T18:01:17.440Z"
   },
   {
    "duration": 115,
    "start_time": "2022-07-01T18:01:25.537Z"
   },
   {
    "duration": 108,
    "start_time": "2022-07-01T18:01:43.554Z"
   },
   {
    "duration": 106,
    "start_time": "2022-07-01T18:01:51.891Z"
   },
   {
    "duration": 103,
    "start_time": "2022-07-01T18:02:09.892Z"
   },
   {
    "duration": 101,
    "start_time": "2022-07-01T18:02:15.798Z"
   },
   {
    "duration": 3,
    "start_time": "2022-07-01T18:06:35.911Z"
   },
   {
    "duration": 3,
    "start_time": "2022-07-01T18:06:53.789Z"
   },
   {
    "duration": 4,
    "start_time": "2022-07-01T18:07:54.300Z"
   },
   {
    "duration": 108568,
    "start_time": "2022-07-01T18:07:54.636Z"
   },
   {
    "duration": 27,
    "start_time": "2022-07-01T18:10:04.568Z"
   },
   {
    "duration": 22,
    "start_time": "2022-07-01T18:11:02.154Z"
   },
   {
    "duration": 4,
    "start_time": "2022-07-01T18:12:15.875Z"
   },
   {
    "duration": 93138,
    "start_time": "2022-07-01T18:12:15.902Z"
   },
   {
    "duration": 3,
    "start_time": "2022-07-01T18:13:54.905Z"
   },
   {
    "duration": 2,
    "start_time": "2022-07-01T18:14:23.094Z"
   },
   {
    "duration": 2,
    "start_time": "2022-07-01T18:14:37.096Z"
   },
   {
    "duration": 347,
    "start_time": "2022-07-01T18:15:16.620Z"
   },
   {
    "duration": 4,
    "start_time": "2022-07-01T18:16:28.200Z"
   },
   {
    "duration": 2265,
    "start_time": "2022-07-01T18:18:45.254Z"
   },
   {
    "duration": 52085,
    "start_time": "2022-07-01T18:18:47.522Z"
   },
   {
    "duration": 6,
    "start_time": "2022-07-01T18:19:39.609Z"
   },
   {
    "duration": 70,
    "start_time": "2022-07-01T18:19:39.617Z"
   },
   {
    "duration": 33,
    "start_time": "2022-07-01T18:19:39.690Z"
   },
   {
    "duration": 354,
    "start_time": "2022-07-01T18:19:39.725Z"
   },
   {
    "duration": 162,
    "start_time": "2022-07-01T18:19:40.081Z"
   },
   {
    "duration": 230,
    "start_time": "2022-07-01T18:19:40.245Z"
   },
   {
    "duration": 3,
    "start_time": "2022-07-01T18:19:40.477Z"
   },
   {
    "duration": 318,
    "start_time": "2022-07-01T18:19:40.481Z"
   },
   {
    "duration": 6,
    "start_time": "2022-07-01T18:19:57.204Z"
   },
   {
    "duration": 8,
    "start_time": "2022-07-01T18:22:51.535Z"
   },
   {
    "duration": 46,
    "start_time": "2022-07-01T18:23:09.847Z"
   },
   {
    "duration": 52698,
    "start_time": "2022-07-01T18:23:18.879Z"
   },
   {
    "duration": 6,
    "start_time": "2022-07-01T18:24:11.579Z"
   },
   {
    "duration": 70,
    "start_time": "2022-07-01T18:24:11.587Z"
   },
   {
    "duration": 33,
    "start_time": "2022-07-01T18:24:11.659Z"
   },
   {
    "duration": 336,
    "start_time": "2022-07-01T18:24:11.693Z"
   },
   {
    "duration": 198,
    "start_time": "2022-07-01T18:24:12.031Z"
   },
   {
    "duration": 241,
    "start_time": "2022-07-01T18:24:12.231Z"
   },
   {
    "duration": 3,
    "start_time": "2022-07-01T18:24:12.474Z"
   },
   {
    "duration": 300,
    "start_time": "2022-07-01T18:24:12.479Z"
   },
   {
    "duration": 8,
    "start_time": "2022-07-01T18:24:24.858Z"
   },
   {
    "duration": 65,
    "start_time": "2022-07-01T18:24:31.199Z"
   },
   {
    "duration": 110362,
    "start_time": "2022-07-01T18:24:53.005Z"
   },
   {
    "duration": 37,
    "start_time": "2022-07-01T18:26:51.207Z"
   },
   {
    "duration": 3,
    "start_time": "2022-07-01T18:27:05.000Z"
   },
   {
    "duration": 353,
    "start_time": "2022-07-01T18:27:05.831Z"
   },
   {
    "duration": 2,
    "start_time": "2022-07-01T18:27:33.287Z"
   },
   {
    "duration": 326,
    "start_time": "2022-07-01T18:27:33.296Z"
   },
   {
    "duration": 134497,
    "start_time": "2022-07-01T18:27:34.778Z"
   },
   {
    "duration": 71,
    "start_time": "2022-07-01T18:30:37.626Z"
   },
   {
    "duration": 18,
    "start_time": "2022-07-01T18:30:43.970Z"
   },
   {
    "duration": 18,
    "start_time": "2022-07-01T18:30:55.345Z"
   },
   {
    "duration": 23,
    "start_time": "2022-07-01T18:30:59.934Z"
   },
   {
    "duration": 15,
    "start_time": "2022-07-01T18:31:00.744Z"
   },
   {
    "duration": 7,
    "start_time": "2022-07-01T18:31:03.223Z"
   },
   {
    "duration": 116,
    "start_time": "2022-07-01T18:31:11.016Z"
   },
   {
    "duration": 101,
    "start_time": "2022-07-01T18:31:27.999Z"
   },
   {
    "duration": 152,
    "start_time": "2022-07-01T18:31:45.304Z"
   },
   {
    "duration": 147,
    "start_time": "2022-07-01T18:32:04.319Z"
   },
   {
    "duration": 110,
    "start_time": "2022-07-01T18:32:11.079Z"
   },
   {
    "duration": 10864,
    "start_time": "2022-07-01T18:32:30.950Z"
   },
   {
    "duration": 44992,
    "start_time": "2022-07-01T18:33:39.299Z"
   },
   {
    "duration": 44,
    "start_time": "2022-07-01T18:34:24.293Z"
   },
   {
    "duration": 6,
    "start_time": "2022-07-01T18:41:18.270Z"
   },
   {
    "duration": 4,
    "start_time": "2022-07-01T18:44:35.877Z"
   },
   {
    "duration": 4,
    "start_time": "2022-07-01T18:44:56.050Z"
   },
   {
    "duration": 7,
    "start_time": "2022-07-01T18:46:14.442Z"
   },
   {
    "duration": 10,
    "start_time": "2022-07-01T18:46:18.581Z"
   },
   {
    "duration": 48,
    "start_time": "2022-07-01T18:46:35.072Z"
   },
   {
    "duration": 21,
    "start_time": "2022-07-01T18:46:46.848Z"
   },
   {
    "duration": 12,
    "start_time": "2022-07-01T18:46:48.593Z"
   },
   {
    "duration": 11,
    "start_time": "2022-07-01T18:48:36.929Z"
   },
   {
    "duration": 12,
    "start_time": "2022-07-01T18:48:43.111Z"
   },
   {
    "duration": 7,
    "start_time": "2022-07-01T18:49:01.105Z"
   },
   {
    "duration": 11,
    "start_time": "2022-07-01T18:49:01.820Z"
   },
   {
    "duration": 31,
    "start_time": "2022-07-01T18:49:55.350Z"
   },
   {
    "duration": 41,
    "start_time": "2022-07-01T18:50:10.013Z"
   },
   {
    "duration": 4,
    "start_time": "2022-07-01T18:50:30.710Z"
   }
  ],
  "kernelspec": {
   "display_name": "Python 3 (ipykernel)",
   "language": "python",
   "name": "python3"
  },
  "language_info": {
   "codemirror_mode": {
    "name": "ipython",
    "version": 3
   },
   "file_extension": ".py",
   "mimetype": "text/x-python",
   "name": "python",
   "nbconvert_exporter": "python",
   "pygments_lexer": "ipython3",
   "version": "3.9.12"
  },
  "toc": {
   "base_numbering": 1,
   "nav_menu": {},
   "number_sections": true,
   "sideBar": true,
   "skip_h1_title": true,
   "title_cell": "Table of Contents",
   "title_sidebar": "Contents",
   "toc_cell": false,
   "toc_position": {
    "height": "calc(100% - 180px)",
    "left": "10px",
    "top": "150px",
    "width": "267.225px"
   },
   "toc_section_display": true,
   "toc_window_display": true
  }
 },
 "nbformat": 4,
 "nbformat_minor": 2
}
